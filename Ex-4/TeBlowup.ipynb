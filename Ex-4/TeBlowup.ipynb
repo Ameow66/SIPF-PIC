{
 "cells": [
  {
   "cell_type": "code",
   "execution_count": 1,
   "id": "a833a02f-008c-4e19-aea1-278a4b6dbf61",
   "metadata": {},
   "outputs": [],
   "source": [
    "import os\n",
    "\n",
    "import jax\n",
    "import jax.numpy as jnp\n",
    "from jax import random,  vmap, jit\n",
    "from jax import config\n",
    "from jax import lax\n",
    "from jax.flatten_util import ravel_pytree\n",
    "\n",
    "import itertools\n",
    "from functools import partial\n",
    "from tqdm.auto import trange, tqdm\n",
    "import time\n",
    "\n",
    "from scipy.interpolate import griddata\n",
    "from scipy.sparse import csr_matrix\n",
    "\n",
    "import numpy as np\n",
    "%matplotlib notebook\n",
    "import matplotlib.pyplot as plt\n",
    "\n",
    "%matplotlib inline\n",
    "plt.rcParams['figure.dpi'] = 300\n",
    "plt.rcParams['savefig.dpi'] = 300\n",
    "plt.rcParams.update({'font.size': 4})\n",
    "\n",
    "\n",
    "jax.config.update(\"jax_enable_x64\", True)\n",
    "from A4M42V import PKS\n",
    "from auxx import gen_initX"
   ]
  },
  {
   "cell_type": "code",
   "execution_count": 2,
   "id": "27309548-c658-4fae-b903-461668732d2b",
   "metadata": {},
   "outputs": [],
   "source": [
    "rngseed=183\n",
    "rng_key=random.PRNGKey(rngseed)\n",
    "\n",
    "pos=jnp.array([[1,0,0],[-0.5,jnp.sqrt(3)/2,0],[-0.5,-jnp.sqrt(3)/2,0],[0,0,jnp.sqrt(2)]])\n",
    "\n",
    "iniX=gen_initX(rng_key,J=2**20,r=0.5,pos=pos,plot=False)\n",
    "T=4e-1\n",
    "dt=1e-4"
   ]
  },
  {
   "cell_type": "code",
   "execution_count": 3,
   "id": "ad2d3ff6-bd51-449c-82c8-210135628350",
   "metadata": {},
   "outputs": [
    {
     "name": "stdout",
     "output_type": "stream",
     "text": [
      "M20H256\n",
      "--- Build time 0.06507754325866699 s ---\n",
      "--- Total time 4881.465566635132 s ---\n",
      "M80H256\n",
      "--- Build time 0.01562356948852539 s ---\n",
      "--- Total time 4786.275173425674 s ---\n",
      "M160H256\n",
      "--- Build time 0.0 s ---\n",
      "--- Total time 4529.51940536499 s ---\n"
     ]
    }
   ],
   "source": [
    "M_values = [20,80,160]\n",
    "H_values = [256]\n",
    "\n",
    "\n",
    "for M1 in M_values:\n",
    "    for H1 in H_values:\n",
    "        notebook_name = f'M{M1}H{H1}'\n",
    "        print(notebook_name)\n",
    "\n",
    "        rng_key=random.PRNGKey(rngseed)\n",
    "        model=PKS(rng_key=rng_key,eps=1e-4,mu=1,reg=0,M0=M1,H=H1,L=8)\n",
    "        \n",
    "        model.X=iniX\n",
    "        model.solve(t=T,t0=dt,show_num=1000,show_flag=True,notebook_name=notebook_name)"
   ]
  },
  {
   "cell_type": "code",
   "execution_count": null,
   "id": "72aae8e8-15e1-4a70-a469-bd84815839b0",
   "metadata": {},
   "outputs": [],
   "source": []
  }
 ],
 "metadata": {
  "kernelspec": {
   "display_name": "Python 3 (ipykernel)",
   "language": "python",
   "name": "python3"
  },
  "language_info": {
   "codemirror_mode": {
    "name": "ipython",
    "version": 3
   },
   "file_extension": ".py",
   "mimetype": "text/x-python",
   "name": "python",
   "nbconvert_exporter": "python",
   "pygments_lexer": "ipython3",
   "version": "3.11.7"
  }
 },
 "nbformat": 4,
 "nbformat_minor": 5
}
