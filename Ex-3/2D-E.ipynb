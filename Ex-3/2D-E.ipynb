{
 "cells": [
  {
   "cell_type": "code",
   "execution_count": 1,
   "id": "2ddce389-cd35-4726-acb3-8e949f9e63eb",
   "metadata": {},
   "outputs": [],
   "source": [
    "import os\n",
    "\n",
    "import jax\n",
    "import jax.numpy as jnp\n",
    "from jax import random,  vmap, jit\n",
    "from jax import config\n",
    "from jax import lax\n",
    "from jax.flatten_util import ravel_pytree\n",
    "\n",
    "import itertools\n",
    "from functools import partial\n",
    "from tqdm.auto import trange, tqdm\n",
    "import time\n",
    "\n",
    "from scipy.interpolate import griddata\n",
    "from scipy.sparse import csr_matrix\n",
    "\n",
    "import numpy as np\n",
    "%matplotlib notebook\n",
    "import matplotlib.pyplot as plt\n",
    "\n",
    "%matplotlib inline\n",
    "plt.rcParams['figure.dpi'] = 300\n",
    "plt.rcParams['savefig.dpi'] = 300\n",
    "plt.rcParams.update({'font.size': 4})\n",
    "\n",
    "\n",
    "jax.config.update(\"jax_enable_x64\", True)\n",
    "from E2DA4M42V import PKS\n",
    "from aux2D import gen_initX"
   ]
  },
  {
   "cell_type": "code",
   "execution_count": 2,
   "id": "51bff8b0-ff32-4337-a57e-9c181ac01032",
   "metadata": {},
   "outputs": [],
   "source": [
    "rngseed1=183\n",
    "rngseed2=196\n",
    "rng_key1=random.PRNGKey(rngseed1)\n",
    "\n",
    "pos=jnp.array([[0,0]])\n",
    "\n",
    "iniX=gen_initX(rng_key1,J=2**20,r=1,pos=pos,plot=True)\n",
    "T=2.0\n",
    "dt=5e-4"
   ]
  },
  {
   "cell_type": "code",
   "execution_count": 3,
   "id": "1fcceee9-a1c0-4d0c-ae44-b75e72c22aad",
   "metadata": {},
   "outputs": [
    {
     "name": "stdout",
     "output_type": "stream",
     "text": [
      "M22.0\n",
      "--- Build time 0.06392979621887207 s ---\n",
      "--- Total time 1202.3295195102692 s ---\n",
      "M23.0\n",
      "--- Build time 0.0 s ---\n",
      "--- Total time 1122.6340262889862 s ---\n",
      "M24.0\n",
      "--- Build time 0.0 s ---\n",
      "--- Total time 1111.0940878391266 s ---\n",
      "M25.0\n",
      "--- Build time 0.0 s ---\n",
      "--- Total time 1091.4048881530762 s ---\n",
      "M26.0\n",
      "--- Build time 0.0 s ---\n",
      "--- Total time 1068.7861177921295 s ---\n",
      "M27.0\n",
      "--- Build time 0.0 s ---\n",
      "--- Total time 1036.6652784347534 s ---\n"
     ]
    }
   ],
   "source": [
    "M0_values = [22.0,23.0,24.0,25.0,26.0,27.0]\n",
    "\n",
    "for M0 in M0_values:\n",
    "    notebook_name = f'M{M0:.1f}'\n",
    "    print(notebook_name)\n",
    "    rng_key2 = random.PRNGKey(rngseed2)\n",
    "    model = PKS(rng_key=rng_key2, M0=M0, H=2048)\n",
    "    \n",
    "    model.X = iniX\n",
    "    model.solve(t=T, t0=dt, show_num=2000, show_flag=True, notebook_name=notebook_name)"
   ]
  },
  {
   "cell_type": "code",
   "execution_count": null,
   "id": "633ce4b4-5cf5-4db4-a53d-32ef9a49a8c9",
   "metadata": {},
   "outputs": [],
   "source": []
  }
 ],
 "metadata": {
  "kernelspec": {
   "display_name": "Python 3 (ipykernel)",
   "language": "python",
   "name": "python3"
  },
  "language_info": {
   "codemirror_mode": {
    "name": "ipython",
    "version": 3
   },
   "file_extension": ".py",
   "mimetype": "text/x-python",
   "name": "python",
   "nbconvert_exporter": "python",
   "pygments_lexer": "ipython3",
   "version": "3.11.7"
  }
 },
 "nbformat": 4,
 "nbformat_minor": 5
}
